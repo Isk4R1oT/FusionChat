{
 "cells": [
  {
   "cell_type": "code",
   "id": "initial_id",
   "metadata": {
    "collapsed": true,
    "ExecuteTime": {
     "end_time": "2025-02-11T06:21:54.097813Z",
     "start_time": "2025-02-11T06:21:37.910690Z"
    }
   },
   "source": [
    "from backend.services.ChatBot import ChatBot\n",
    "\n",
    "chatbot = ChatBot()\n",
    "response = chatbot.process_query(\"Расскажи мне о компании AAPL, покажи текущую котировку и последние новости.\")\n",
    "print(response)"
   ],
   "outputs": [
    {
     "name": "stderr",
     "output_type": "stream",
     "text": [
      "C:\\Users\\Ноутбук\\PycharmProjects\\FusionChat\\backend\\services\\ChatBot.py:57: LangChainDeprecationWarning: Please see the migration guide at: https://python.langchain.com/docs/versions/migrating_memory/\n",
      "  memory=ConversationBufferMemory(memory_key=\"chat_history\", return_messages=True),\n",
      "C:\\Users\\Ноутбук\\PycharmProjects\\FusionChat\\backend\\services\\ChatBot.py:53: LangChainDeprecationWarning: LangChain agents will continue to be supported, but it is recommended for new use cases to be built with LangGraph. LangGraph offers a more flexible and full-featured framework for building agents, including support for tool-calling, persistence of state, and human-in-the-loop workflows. For details, refer to the `LangGraph documentation <https://langchain-ai.github.io/langgraph/>`_ as well as guides for `Migrating from AgentExecutor <https://python.langchain.com/docs/how_to/migrate_agent/>`_ and LangGraph's `Pre-built ReAct agent <https://langchain-ai.github.io/langgraph/how-tos/create-react-agent/>`_.\n",
      "  self.agent = initialize_agent(\n",
      "C:\\Users\\Ноутбук\\PycharmProjects\\FusionChat\\backend\\services\\ChatBot.py:63: LangChainDeprecationWarning: The method `Chain.run` was deprecated in langchain 0.1.0 and will be removed in 1.0. Use :meth:`~invoke` instead.\n",
      "  return self.agent.run(input=query)\n"
     ]
    },
    {
     "name": "stdout",
     "output_type": "stream",
     "text": [
      "\n",
      "\n",
      "\u001B[1m> Entering new AgentExecutor chain...\u001B[0m\n",
      "\u001B[32;1m\u001B[1;3m```json\n",
      "{\n",
      "    \"action\": \"Stock Info Lookup\",\n",
      "    \"action_input\": \"AAPL\"\n",
      "}\n",
      "```\u001B[0m\n",
      "Observation: \u001B[38;5;200m\u001B[1;3mТикер AAPL представляет компанию Apple Inc., сектор: Technology.\u001B[0m\n",
      "Thought:\u001B[32;1m\u001B[1;3m```json\n",
      "{\n",
      "    \"action\": \"Stock Quote Lookup\",\n",
      "    \"action_input\": \"AAPL\"\n",
      "}\n",
      "```\u001B[0m\n",
      "Observation: \u001B[36;1m\u001B[1;3mТекущая цена акции AAPL: 227.65 USD\u001B[0m\n",
      "Thought:\u001B[32;1m\u001B[1;3m```json\n",
      "{\n",
      "    \"action\": \"Stock News Lookup\",\n",
      "    \"action_input\": \"AAPL\"\n",
      "}\n",
      "```\u001B[0m\n",
      "Observation: \u001B[33;1m\u001B[1;3m[{'id': '6bb9127f-5dda-3012-9b14-772a0ce92251', 'content': {'id': '6bb9127f-5dda-3012-9b14-772a0ce92251', 'contentType': 'STORY', 'title': 'Apple and Google take down malicious mobile apps from their app stores', 'description': '', 'summary': 'Apple and Google have pulled as many as 20 apps from their respective app stores after security researchers found the apps were carrying data-stealing malware for almost a year. Security researchers at Kaspersky said the malware, dubbed SparkCat, has been active since March 2024. Initially, the researchers found the malicious framework within a food delivery app used in the United Arab Emirates and Indonesia but later found the malware on 19 other, unrelated apps, which they say were cumulativel', 'pubDate': '2025-02-11T00:45:28Z', 'displayTime': '2025-02-11T00:45:28Z', 'isHosted': True, 'bypassModal': False, 'previewUrl': None, 'thumbnail': None, 'provider': {'displayName': 'TechCrunch', 'url': 'https://techcrunch.com/'}, 'canonicalUrl': {'url': 'https://techcrunch.com/2025/02/10/apple-and-google-take-down-malicious-apps-from-their-app-stores/', 'site': 'finance', 'region': 'US', 'lang': 'en-US'}, 'clickThroughUrl': {'url': 'https://finance.yahoo.com/news/apple-google-down-malicious-mobile-004528026.html', 'site': 'finance', 'region': 'US', 'lang': 'en-US'}, 'metadata': {'editorsPick': True}, 'finance': {'premiumFinance': {'isPremiumNews': False, 'isPremiumFreeNews': False}}, 'storyline': {'storylineItems': [{'content': {'id': 'f1486e77-978c-35b0-89bd-505b80ad8783', 'contentType': 'VIDEO', 'isHosted': True, 'title': 'T-Mobile launches beta for Starlink connection. Stock surges.', 'thumbnail': {'originalUrl': 'https://s.yimg.com/os/creatr-uploaded-images/2025-02/002433e0-e7ee-11ef-bbcb-32c9059f4e44', 'originalWidth': 6000, 'originalHeight': 3378, 'caption': '', 'resolutions': None}, 'provider': {'displayName': 'Yahoo Finance Video', 'sourceId': 'video.yahoofinance.com'}, 'previewUrl': None, 'providerContentUrl': '', 'canonicalUrl': {'url': 'https://finance.yahoo.com/video/t-mobile-launches-beta-starlink-210200065.html'}, 'clickThroughUrl': {'url': 'https://finance.yahoo.com/video/t-mobile-launches-beta-starlink-210200065.html'}}}, {'content': {'id': '9c6231ac-7f2d-49ad-ada4-729a54276c42', 'contentType': 'STORY', 'isHosted': True, 'title': \"The Magnificent 7 trade is struggling — Here's why\", 'thumbnail': {'originalUrl': 'https://s.yimg.com/os/creatr-uploaded-images/2025-01/cdd751a0-cde5-11ef-bdfe-429cb96d6067', 'originalWidth': 3600, 'originalHeight': 2400, 'caption': '', 'resolutions': None}, 'provider': {'displayName': 'Yahoo Finance', 'sourceId': 'yahoofinance.com'}, 'previewUrl': None, 'providerContentUrl': '', 'canonicalUrl': {'url': 'https://finance.yahoo.com/news/the-magnificent-7-trade-is-struggling--heres-why-181716458.html'}, 'clickThroughUrl': {'url': 'https://finance.yahoo.com/news/the-magnificent-7-trade-is-struggling--heres-why-181716458.html'}}}]}}}, {'id': 'dc170c95-a419-3406-aed3-90c412bbaad9', 'content': {'id': 'dc170c95-a419-3406-aed3-90c412bbaad9', 'contentType': 'STORY', 'title': 'China’s Xi Is Building an Economic Fortress Against U.S. Pressure', 'description': '', 'summary': 'As Trump turns up the heat on Beijing, China is trying to become more technologically self-sufficient, but its efforts have a significant cost.', 'pubDate': '2025-02-11T05:03:00Z', 'displayTime': '2025-02-11T05:03:00Z', 'isHosted': False, 'bypassModal': False, 'previewUrl': 'https://finance.yahoo.com/m/dc170c95-a419-3406-aed3-90c412bbaad9/china%E2%80%99s-xi-is-building-an.html', 'thumbnail': {'originalUrl': 'https://media.zenfs.com/en/wsj.com/7b2c285183be07ca3c4e8242b25a59a8', 'originalWidth': 1200, 'originalHeight': 630, 'caption': '', 'resolutions': [{'url': 'https://s.yimg.com/uu/api/res/1.2/Fwf5HL4GsEGPbDfR3MJBPg--~B/aD02MzA7dz0xMjAwO2FwcGlkPXl0YWNoeW9u/https://media.zenfs.com/en/wsj.com/7b2c285183be07ca3c4e8242b25a59a8', 'width': 1200, 'height': 630, 'tag': 'original'}, {'url': 'https://s.yimg.com/uu/api/res/1.2/c34MZxHLZOfDYN2BBjM9ww--~B/Zmk9c3RyaW07aD0xMjg7dz0xNzA7YXBwaWQ9eXRhY2h5b24-/https://media.zenfs.com/en/wsj.com/7b2c285183be07ca3c4e8242b25a59a8', 'width': 170, 'height': 128, 'tag': '170x128'}]}, 'provider': {'displayName': 'The Wall Street Journal', 'url': 'http://www.wsj.com/'}, 'canonicalUrl': {'url': 'https://www.wsj.com/world/china/chinas-xi-is-building-an-economic-fortress-against-u-s-pressure-53f6292d?siteid=yhoof2&yptr=yahoo', 'site': 'finance', 'region': 'US', 'lang': 'en-US'}, 'clickThroughUrl': None, 'metadata': {'editorsPick': False}, 'finance': {'premiumFinance': {'isPremiumNews': False, 'isPremiumFreeNews': False}}, 'storyline': None}}, {'id': '908eba24-9b80-3f1f-aa74-c5201a4257f8', 'content': {'id': '908eba24-9b80-3f1f-aa74-c5201a4257f8', 'contentType': 'STORY', 'title': 'Steve Bannon’s Freewheeling Show Is the Hottest Stop on D.C.’s Media Circuit', 'description': '', 'summary': 'Eight minutes before his “War Room” show went live on a recent Friday,  Steve Bannon  had two more things to do.  The former Trump adviser turned-convict-turned-talk-show-host called White House budget chief  Russ Vought  with a message:  Elon Musk  needed to speed up efforts to make serious spending cuts.  “You’re his boss—tell him to go f— himself,” Bannon said.', 'pubDate': '2025-02-11T02:00:00Z', 'displayTime': '2025-02-11T02:00:00Z', 'isHosted': False, 'bypassModal': False, 'previewUrl': 'https://finance.yahoo.com/m/908eba24-9b80-3f1f-aa74-c5201a4257f8/steve-bannon%E2%80%99s-freewheeling.html', 'thumbnail': {'originalUrl': 'https://media.zenfs.com/en/wsj.com/7b2c285183be07ca3c4e8242b25a59a8', 'originalWidth': 1200, 'originalHeight': 630, 'caption': '', 'resolutions': [{'url': 'https://s.yimg.com/uu/api/res/1.2/Fwf5HL4GsEGPbDfR3MJBPg--~B/aD02MzA7dz0xMjAwO2FwcGlkPXl0YWNoeW9u/https://media.zenfs.com/en/wsj.com/7b2c285183be07ca3c4e8242b25a59a8', 'width': 1200, 'height': 630, 'tag': 'original'}, {'url': 'https://s.yimg.com/uu/api/res/1.2/c34MZxHLZOfDYN2BBjM9ww--~B/Zmk9c3RyaW07aD0xMjg7dz0xNzA7YXBwaWQ9eXRhY2h5b24-/https://media.zenfs.com/en/wsj.com/7b2c285183be07ca3c4e8242b25a59a8', 'width': 170, 'height': 128, 'tag': '170x128'}]}, 'provider': {'displayName': 'The Wall Street Journal', 'url': 'http://www.wsj.com/'}, 'canonicalUrl': {'url': 'https://www.wsj.com/politics/policy/steve-bannon-war-room-news-show-dc7f8468?siteid=yhoof2&yptr=yahoo', 'site': 'finance', 'region': 'US', 'lang': 'en-US'}, 'clickThroughUrl': None, 'metadata': {'editorsPick': False}, 'finance': {'premiumFinance': {'isPremiumNews': False, 'isPremiumFreeNews': False}}, 'storyline': None}}]\u001B[0m\n",
      "Thought:\u001B[32;1m\u001B[1;3m```json\n",
      "{\n",
      "    \"action\": \"Final Answer\",\n",
      "    \"action_input\": \"Компания Apple Inc. работает в секторе Technology. Текущая цена акции AAPL составляет 227.65 USD. Последние новости включают: 'Apple и Google удалили вредоносные мобильные приложения из своих магазинов приложений', 'Китай построил экономическую крепость против давления США', 'Шоу Стива Бэннона стало самым популярным в медиа-среде Вашингтона'.\"\n",
      "}\n",
      "```\u001B[0m\n",
      "\n",
      "\u001B[1m> Finished chain.\u001B[0m\n",
      "Компания Apple Inc. работает в секторе Technology. Текущая цена акции AAPL составляет 227.65 USD. Последние новости включают: 'Apple и Google удалили вредоносные мобильные приложения из своих магазинов приложений', 'Китай построил экономическую крепость против давления США', 'Шоу Стива Бэннона стало самым популярным в медиа-среде Вашингтона'.\n"
     ]
    }
   ],
   "execution_count": 1
  }
 ],
 "metadata": {
  "kernelspec": {
   "display_name": "Python 3",
   "language": "python",
   "name": "python3"
  },
  "language_info": {
   "codemirror_mode": {
    "name": "ipython",
    "version": 2
   },
   "file_extension": ".py",
   "mimetype": "text/x-python",
   "name": "python",
   "nbconvert_exporter": "python",
   "pygments_lexer": "ipython2",
   "version": "2.7.6"
  }
 },
 "nbformat": 4,
 "nbformat_minor": 5
}
